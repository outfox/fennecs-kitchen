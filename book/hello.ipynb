{
 "cells": [
  {
   "cell_type": "markdown",
   "id": "9e628854-e275-44d5-b05d-44f5f1b03c6d",
   "metadata": {},
   "source": [
    "# fennecs kitchen\n",
    "![two cartoon fennecs behind a kitchen counter](https://fennecs.tech/img/fennecs-kitchen-transparent.png)"
   ]
  },
  {
   "cell_type": "markdown",
   "id": "3f838177-00ec-465b-a755-9c69dc46e50c",
   "metadata": {},
   "source": [
    "### Preparations: Let's get started!\n",
    "You can easily import fennecs into your .NET project from nuget.  \n",
    "![dotnet add package fennecs](https://fennecs.tech/video/animation-dotnet-add-package-fennecs.svg)\n"
   ]
  },
  {
   "cell_type": "code",
   "execution_count": 1,
   "id": "b779793b",
   "metadata": {
    "polyglot_notebook": {
     "kernelName": "csharp"
    },
    "tags": [
     "hide-input",
     "hide-cell"
    ],
    "vscode": {
     "languageId": "polyglot-notebook"
    }
   },
   "outputs": [
    {
     "data": {
      "text/html": [
       "<div><div></div><div></div><div><strong>Installed Packages</strong><ul><li><span>fennecs, 0.5.16-beta</span></li></ul></div></div>"
      ]
     },
     "metadata": {},
     "output_type": "display_data"
    }
   ],
   "source": [
    "//(jupyter's equivalent to dotnet add package)\n",
    "#r \"nuget:fennecs, 0.5.16-beta\""
   ]
  },
  {
   "cell_type": "markdown",
   "id": "eb87dd40-f562-4e49-a47f-4bb247ffb563",
   "metadata": {},
   "source": [
    "Then, in your `Program.cs` or a C# script in the engine of your choice...\n",
    "![using fennecs;](https://fennecs.tech/img/using-fennecs-darkmode.svg)"
   ]
  },
  {
   "cell_type": "code",
   "execution_count": 2,
   "id": "9880fc08-c613-4a76-81dc-9ccb640a0297",
   "metadata": {
    "polyglot_notebook": {
     "kernelName": "csharp"
    },
    "vscode": {
     "languageId": "polyglot-notebook"
    }
   },
   "outputs": [],
   "source": [
    "using fennecs;"
   ]
  },
  {
   "cell_type": "markdown",
   "id": "e5081476-c9ee-4ba9-814a-419ff73aa920",
   "metadata": {},
   "source": [
    "All set! "
   ]
  },
  {
   "cell_type": "markdown",
   "id": "9ba0e4b7-a910-486e-a6be-12fdd186a688",
   "metadata": {},
   "source": [
    "# Let's Cook!"
   ]
  },
  {
   "cell_type": "code",
   "execution_count": 3,
   "id": "a8278f34",
   "metadata": {
    "polyglot_notebook": {
     "kernelName": "csharp"
    },
    "scrolled": true,
    "vscode": {
     "languageId": "polyglot-notebook"
    }
   },
   "outputs": [
    {
     "name": "stdout",
     "output_type": "stream",
     "text": [
      "Entity: E-00000001:00001 <fennecs.Identity>\n",
      "  |-<System.Numerics.Vector3>, Vector: <1, 2, 3>\n",
      "Entity: E-00000002:00001 <fennecs.Identity>\n",
      "  |-<System.Numerics.Vector3>, Vector: <1, 2, 3>\n",
      "Entity: E-00000003:00001 <fennecs.Identity>\n",
      "  |-<System.Numerics.Vector3>, Vector: <1, 2, 3>\n",
      "Entity: E-00000004:00001 <fennecs.Identity>\n",
      "  |-<System.Numerics.Vector3>, Vector: <1, 2, 3>\n"
     ]
    }
   ],
   "source": [
    "using System.Linq; \n",
    "using System.Numerics;\n",
    "\n",
    "var world = new World();\n",
    "\n",
    "var stream = world.Query<Vector3>().Stream();\n",
    "\n",
    "world.Entity().Add(new Vector3(1, 2, 3)).Spawn(4);\n",
    "\n",
    "stream.For((in Entity e, ref Vector3 v) => {\n",
    "Console.WriteLine($\"Entity: {e}, Vector: {v}\");\n",
    "});\n"
   ]
  },
  {
   "cell_type": "code",
   "execution_count": 4,
   "id": "c093bbaf-f4df-47c3-823d-315d37cf27fe",
   "metadata": {
    "polyglot_notebook": {
     "kernelName": "csharp"
    },
    "vscode": {
     "languageId": "polyglot-notebook"
    }
   },
   "outputs": [],
   "source": []
  },
  {
   "cell_type": "code",
   "execution_count": 5,
   "id": "99ef06ce-ba60-4a40-ac78-9540b8c7621e",
   "metadata": {
    "polyglot_notebook": {
     "kernelName": "csharp"
    },
    "vscode": {
     "languageId": "polyglot-notebook"
    }
   },
   "outputs": [],
   "source": []
  },
  {
   "cell_type": "markdown",
   "id": "7c9ddec7-43d9-40da-b82a-38bde6d4bebd",
   "metadata": {},
   "source": [
    "### Heading Level 3\n",
    "\n",
    "Try changing the number of `#`s to $n$[^math] to change the **depth** of the _heading_.\n",
    "\n",
    "1. Learn about [Markdown](https://en.wikipedia.org/wiki/Markdown)\n",
    "   - Go through a [tutorial](https://commonmark.org/help/tutorial/)\n",
    "\n",
    "[^math]: Where $n \\in \\mathbb{N}$ with $n \\leq 6$, or between an H1 and an H6!"
   ]
  }
 ],
 "metadata": {
  "kernelspec": {
   "display_name": ".NET (C#)",
   "language": "C#",
   "name": ".net-csharp"
  },
  "language_info": {
   "file_extension": ".cs",
   "mimetype": "text/x-csharp",
   "name": "C#",
   "pygments_lexer": "csharp",
   "version": "13.0"
  },
  "polyglot_notebook": {
   "kernelInfo": {
    "defaultKernelName": "csharp",
    "items": [
     {
      "aliases": [],
      "name": "csharp"
     }
    ]
   }
  }
 },
 "nbformat": 4,
 "nbformat_minor": 5
}

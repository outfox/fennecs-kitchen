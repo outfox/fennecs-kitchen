{
 "cells": [
  {
   "cell_type": "markdown",
   "id": "468dc85d-2f4a-4c6e-bbd8-561d858db3f4",
   "metadata": {
    "editable": true,
    "slideshow": {
     "slide_type": ""
    },
    "tags": []
   },
   "source": [
    "# Welcome to the kitchen!"
   ]
  },
  {
   "cell_type": "markdown",
   "id": "9e628854-e275-44d5-b05d-44f5f1b03c6d",
   "metadata": {
    "editable": true,
    "slideshow": {
     "slide_type": ""
    },
    "tags": []
   },
   "source": [
    "<div style=\"display: flex; align-items: center; gap: 20px; justify-content: center;\">\n",
    "        <img src=\"https://fennecs.tech/img/fennecs-kitchen-transparent.png\" style=\"max-height: 200px; width: auto;\">\n",
    "        <img src=\"https://fennecs.tech/img/fennecs-logo-stacked-darkmode.svg\" style=\"max-height: 200px; width: auto;\">\n",
    "</div>"
   ]
  },
  {
   "cell_type": "markdown",
   "id": "3f838177-00ec-465b-a755-9c69dc46e50c",
   "metadata": {
    "editable": true,
    "slideshow": {
     "slide_type": ""
    },
    "tags": []
   },
   "source": [
    "#### This is an interactive tutorial and playground to explain and illustrate Entity-Component System concepts as implemented in **fenn**ecs.\n",
    "You can simply use it on the web or download and view it in Visual Studio Code or Rider for better code completion, step by step debugging, etc.\n",
    "\n",
    "<div class=\"alert alert-block alert-info\">\n",
    "<b>Tip:</b> You're looking at a Jupyter Notebook with a .NET Interactive kernel.<br/> It runs on a <u><a href=\"https://mybinder.org\">small virtual machine</a></u> that has been spun up just for you! ♥️ <br/>In case anything breaks, just open the original link again to get a fresh notebook!\n",
    "</div>\n"
   ]
  },
  {
   "cell_type": "markdown",
   "id": "48c812fb-6dfe-46cf-babb-c2a216a4f46e",
   "metadata": {
    "editable": true,
    "slideshow": {
     "slide_type": ""
    },
    "tags": []
   },
   "source": [
    "## Prep your Station\n",
    "Just get **fenn**ecs from nuget.\n",
    "## `dotnet add package fennecs --prerelease`"
   ]
  },
  {
   "cell_type": "code",
   "execution_count": 76,
   "id": "b779793b",
   "metadata": {
    "editable": false,
    "jupyter": {
     "source_hidden": true
    },
    "polyglot_notebook": {
     "kernelName": "csharp"
    },
    "slideshow": {
     "slide_type": ""
    },
    "source_hidden": true,
    "tags": [],
    "vscode": {
     "languageId": "polyglot-notebook"
    }
   },
   "outputs": [
    {
     "data": {
      "text/html": [
       "<div><div></div><div></div><div><strong>Installed Packages</strong><ul><li><span>fennecs, 0.5.16-beta</span></li></ul></div></div>"
      ]
     },
     "metadata": {},
     "output_type": "display_data"
    }
   ],
   "source": [
    "\n",
    "#r \"nuget:fennecs, 0.5.16-beta\""
   ]
  },
  {
   "cell_type": "markdown",
   "id": "eb87dd40-f562-4e49-a47f-4bb247ffb563",
   "metadata": {
    "editable": true,
    "slideshow": {
     "slide_type": ""
    },
    "tags": []
   },
   "source": [
    "...and in your `Program.cs` or a C# script in the engine of your choice..."
   ]
  },
  {
   "cell_type": "code",
   "execution_count": 77,
   "id": "9880fc08-c613-4a76-81dc-9ccb640a0297",
   "metadata": {
    "editable": false,
    "polyglot_notebook": {
     "kernelName": "csharp"
    },
    "slideshow": {
     "slide_type": ""
    },
    "source_hidden": true,
    "tags": [],
    "vscode": {
     "languageId": "polyglot-notebook"
    }
   },
   "outputs": [],
   "source": [
    "using fennecs;"
   ]
  },
  {
   "cell_type": "markdown",
   "id": "9ba0e4b7-a910-486e-a6be-12fdd186a688",
   "metadata": {
    "editable": true,
    "slideshow": {
     "slide_type": ""
    },
    "tags": []
   },
   "source": [
    "...all set!\n",
    "\n",
    "# Let's Cook!"
   ]
  },
  {
   "cell_type": "code",
   "execution_count": 78,
   "id": "a8278f34",
   "metadata": {
    "polyglot_notebook": {
     "kernelName": "csharp"
    },
    "scrolled": true,
    "vscode": {
     "languageId": "polyglot-notebook"
    }
   },
   "outputs": [],
   "source": [
    "using System.Numerics;\n",
    "\n",
    "var world = new World();\n",
    "\n",
    "var stream = world.Query<Vector3>().Stream();\n",
    "\n",
    "world.Entity().Add(new Vector3(1, 2, 3)).Spawn(4);\n"
   ]
  },
  {
   "cell_type": "code",
   "execution_count": 79,
   "id": "c093bbaf-f4df-47c3-823d-315d37cf27fe",
   "metadata": {
    "polyglot_notebook": {
     "kernelName": "csharp"
    },
    "vscode": {
     "languageId": "polyglot-notebook"
    }
   },
   "outputs": [
    {
     "name": "stdout",
     "output_type": "stream",
     "text": [
      "Entity: E-00000001:00001 <fennecs.Identity>\n",
      "  |-<System.Numerics.Vector3>, Vector: <1, 2, 3>\n",
      "Entity: E-00000002:00001 <fennecs.Identity>\n",
      "  |-<System.Numerics.Vector3>, Vector: <1, 2, 3>\n",
      "Entity: E-00000003:00001 <fennecs.Identity>\n",
      "  |-<System.Numerics.Vector3>, Vector: <1, 2, 3>\n",
      "Entity: E-00000004:00001 <fennecs.Identity>\n",
      "  |-<System.Numerics.Vector3>, Vector: <1, 2, 3>\n"
     ]
    }
   ],
   "source": [
    "stream.For((in Entity e, ref System.Numerics.Vector3 v) => {\n",
    "Console.WriteLine($\"Entity: {e}, Vector: {v}\");\n",
    "});"
   ]
  },
  {
   "cell_type": "code",
   "execution_count": null,
   "id": "99ef06ce-ba60-4a40-ac78-9540b8c7621e",
   "metadata": {
    "polyglot_notebook": {
     "kernelName": "csharp"
    },
    "vscode": {
     "languageId": "polyglot-notebook"
    }
   },
   "outputs": [],
   "source": []
  },
  {
   "cell_type": "markdown",
   "id": "7c9ddec7-43d9-40da-b82a-38bde6d4bebd",
   "metadata": {},
   "source": [
    "### Heading Level 3\n",
    "\n",
    "Try changing the number of `#`s to $n$[^math] to change the **depth** of the _heading_.\n",
    "\n",
    "1. Learn about [Markdown](https://en.wikipedia.org/wiki/Markdown)\n",
    "   - Go through a [tutorial](https://commonmark.org/help/tutorial/)\n",
    "\n",
    "[^math]: Where $n \\in \\mathbb{N}$ with $n \\leq 6$, or between an H1 and an H6!"
   ]
  },
  {
   "cell_type": "code",
   "execution_count": null,
   "id": "42897987-9185-4107-9a22-473ce7433095",
   "metadata": {},
   "outputs": [],
   "source": []
  },
  {
   "cell_type": "code",
   "execution_count": null,
   "id": "55aa5057-5b78-46c6-a789-c75da8b8d813",
   "metadata": {},
   "outputs": [],
   "source": []
  },
  {
   "cell_type": "code",
   "execution_count": null,
   "id": "5c452303-608d-49bd-b03a-dff37f6113ef",
   "metadata": {},
   "outputs": [],
   "source": []
  },
  {
   "cell_type": "code",
   "execution_count": null,
   "id": "133f3e91-9256-4478-8354-fb447b3da382",
   "metadata": {},
   "outputs": [],
   "source": []
  },
  {
   "cell_type": "code",
   "execution_count": null,
   "id": "cb3e4a98-bf3d-4311-9060-04b64b46cae0",
   "metadata": {},
   "outputs": [],
   "source": []
  },
  {
   "cell_type": "code",
   "execution_count": null,
   "id": "28f9c5aa-9f28-414b-97fd-589f20d77964",
   "metadata": {},
   "outputs": [],
   "source": []
  }
 ],
 "metadata": {
  "kernelspec": {
   "display_name": ".NET (C#)",
   "language": "C#",
   "name": ".net-csharp"
  },
  "language_info": {
   "file_extension": ".cs",
   "mimetype": "text/x-csharp",
   "name": "C#",
   "pygments_lexer": "csharp",
   "version": "13.0"
  },
  "polyglot_notebook": {
   "kernelInfo": {
    "defaultKernelName": "csharp",
    "items": [
     {
      "aliases": [],
      "name": "csharp"
     }
    ]
   }
  }
 },
 "nbformat": 4,
 "nbformat_minor": 5
}

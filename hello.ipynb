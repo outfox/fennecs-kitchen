{
 "cells": [
  {
   "cell_type": "code",
   "execution_count": 9,
   "metadata": {
    "polyglot_notebook": {
     "kernelName": "csharp"
    },
    "vscode": {
     "languageId": "polyglot-notebook"
    }
   },
   "outputs": [
    {
     "data": {
      "text/html": [
       "<div><div></div><div></div><div><strong>Installed Packages</strong><ul><li><span>fennecs, 0.5.16-beta</span></li></ul></div></div>"
      ]
     },
     "metadata": {},
     "output_type": "display_data"
    }
   ],
   "source": [
    "#r \"nuget:fennecs, 0.5.16-beta\"\n",
    "\n",
    "using fennecs;\n",
    "using System.Linq; \n",
    "using System.Numerics;"
   ]
  },
  {
   "cell_type": "code",
   "execution_count": 10,
   "metadata": {
    "polyglot_notebook": {
     "kernelName": "csharp"
    },
    "vscode": {
     "languageId": "polyglot-notebook"
    }
   },
   "outputs": [
    {
     "name": "stdout",
     "output_type": "stream",
     "text": [
      "Entity: E-00000001:00001 <fennecs.Identity>\n",
      "  |-<System.Numerics.Vector3>, Vector: <1, 2, 3>\n",
      "Entity: E-00000002:00001 <fennecs.Identity>\n",
      "  |-<System.Numerics.Vector3>, Vector: <1, 2, 3>\n",
      "Entity: E-00000003:00001 <fennecs.Identity>\n",
      "  |-<System.Numerics.Vector3>, Vector: <1, 2, 3>\n",
      "Entity: E-00000004:00001 <fennecs.Identity>\n",
      "  |-<System.Numerics.Vector3>, Vector: <1, 2, 3>\n",
      "Entity: E-00000005:00001 <fennecs.Identity>\n",
      "  |-<System.Numerics.Vector3>, Vector: <1, 2, 3>\n",
      "Entity: E-00000006:00001 <fennecs.Identity>\n",
      "  |-<System.Numerics.Vector3>, Vector: <1, 2, 3>\n",
      "Entity: E-00000007:00001 <fennecs.Identity>\n",
      "  |-<System.Numerics.Vector3>, Vector: <1, 2, 3>\n",
      "Entity: E-00000008:00001 <fennecs.Identity>\n",
      "  |-<System.Numerics.Vector3>, Vector: <1, 2, 3>\n",
      "Entity: E-00000009:00001 <fennecs.Identity>\n",
      "  |-<System.Numerics.Vector3>, Vector: <1, 2, 3>\n",
      "Entity: E-0000000a:00001 <fennecs.Identity>\n",
      "  |-<System.Numerics.Vector3>, Vector: <1, 2, 3>\n"
     ]
    }
   ],
   "source": [
    "var world = new World();\n",
    "\n",
    "var stream = world.Query<Vector3>().Stream();\n",
    "\n",
    "world.Entity().Add(new Vector3(1, 2, 3)).Spawn(10);\n",
    "\n",
    "stream.For((in Entity e, ref Vector3 v) => {\n",
    "Console.WriteLine($\"Entity: {e}, Vector: {v}\");\n",
    "});\n"
   ]
  }
 ],
 "metadata": {
  "kernelspec": {
   "display_name": ".NET (C#)",
   "language": "C#",
   "name": ".net-csharp"
  },
  "language_info": {
   "file_extension": ".cs",
   "mimetype": "text/x-csharp",
   "name": "C#",
   "pygments_lexer": "csharp",
   "version": "8.0"
  },
  "polyglot_notebook": {
   "kernelInfo": {
    "defaultKernelName": "csharp",
    "items": [
     {
      "aliases": [],
      "name": "csharp"
     }
    ]
   }
  }
 },
 "nbformat": 4,
 "nbformat_minor": 2
}
